{
 "cells": [
  {
   "cell_type": "markdown",
   "metadata": {},
   "source": [
    "# Data Exploration"
   ]
  },
  {
   "cell_type": "code",
   "execution_count": 1,
   "metadata": {},
   "outputs": [],
   "source": [
    "# Decision Trees (DTs) are a supervised learning method \n",
    "# that can be used for classification. "
   ]
  },
  {
   "cell_type": "code",
   "execution_count": 2,
   "metadata": {},
   "outputs": [],
   "source": [
    "# The goal is to create a model that predicts the value of a target variable \n",
    "# by learning simple decision rules inferred from the data features"
   ]
  },
  {
   "cell_type": "code",
   "execution_count": 3,
   "metadata": {},
   "outputs": [],
   "source": [
    "# Setup\n",
    "# First, let's make sure this notebook works well in both python 2 and 3,\n",
    "# import a few common modules, ensure MatplotLib plots figures inline and \n",
    "# prepare a function to save the figures:"
   ]
  },
  {
   "cell_type": "code",
   "execution_count": 4,
   "metadata": {},
   "outputs": [],
   "source": [
    "# To write a Python 2/3 compatible codebase, the first step is to add this line to the top of each module\n",
    "from __future__ import division, print_function, unicode_literals\n",
    "\n",
    "# Numpy is the fundamental package for scientific computing with Python. \n",
    "# SciPy (pronounced \"Sigh Pie\") is an open source Python library used for scientific computing and technical computing. \n",
    "# Os module provides a portable way of using operating system dependent functionality.\n",
    "import numpy as np # np is an alias pointing to numpy\n",
    "import scipy as sp # sp is an alias pointing to scipy\n",
    "import pandas as pd #pd is an alias pointing to pandas\n",
    "import os\n",
    "\n",
    "# Seed the generator to make this notebook's output stable across runs\n",
    "np.random.seed(22)\n",
    "\n",
    "# To plot pretty figures\n",
    "%matplotlib inline\n",
    "import matplotlib\n",
    "import matplotlib.pyplot as plt #pyplot is matplotlib's plotting framework https://matplotlib.org/users/pyplot_tutorial.html\n",
    "\n",
    "# Dynamically change the default rc settings in a python script\n",
    "# See documentation for a complete list of parameters https://matplotlib.org/users/customizing.html\n",
    "plt.rcParams['axes.labelsize'] = 14  # fontsize of the x any y labels\n",
    "plt.rcParams['xtick.labelsize'] = 12 # fontsize of the tick labels\n",
    "plt.rcParams['ytick.labelsize'] = 12 # fontsize of the tick labels"
   ]
  },
  {
   "cell_type": "code",
   "execution_count": 5,
   "metadata": {},
   "outputs": [],
   "source": [
    "# Where to save the figures\n",
    "PROJECT_ROOT_DIR = \".\"\n",
    "CHAPTER_ID = \"decision_trees\"\n",
    "\n",
    "# Define path of an image\n",
    "# Function that takes as input fig_id and returns back the image path\n",
    "def image_path(fig_id):\n",
    "    return os.path.join(PROJECT_ROOT_DIR, \"images\", CHAPTER_ID, fig_id)\n",
    "\n",
    "# Save image in a specific path\n",
    "# Function that takes as input fig_id and saves the image in a specific format (i.e., png, 300 dpi)\n",
    "def save_fig(fig_id, tight_layout=True):\n",
    "    print(\"Saving figure\", fig_id)\n",
    "    if tight_layout:\n",
    "        plt.tight_layout()\n",
    "    plt.savefig(image_path(fig_id) + \".png\", format='png', dpi=300)"
   ]
  },
  {
   "cell_type": "code",
   "execution_count": null,
   "metadata": {},
   "outputs": [],
   "source": []
  },
  {
   "cell_type": "code",
   "execution_count": 6,
   "metadata": {},
   "outputs": [],
   "source": [
    "# Training and Visualizing a Decision Tree"
   ]
  },
  {
   "cell_type": "code",
   "execution_count": 7,
   "metadata": {},
   "outputs": [],
   "source": [
    "########################################### Imports ###########################################\n",
    "from sklearn.tree import DecisionTreeClassifier # The sklearn.tree module includes decision tree-based models for \n",
    "# classification and regression\n",
    "# Documentation for decision Tree Classifier \n",
    "# http://scikit-learn.org/stable/modules/generated/sklearn.tree.DecisionTreeClassifier.html\n",
    "\n",
    "# Seaborn is a Python data visualization library based on matplotlib. \n",
    "# Seaborn documentation can be found here https://seaborn.pydata.org/generated/seaborn.set.html\n",
    "import seaborn as sns # sns is an alias pointing to seaborn\n",
    "sns.set(color_codes=True) #Set aesthetic parameters in one step. Remaps the shorthand color codes (e.g. “b”, “g”, “r”, etc.) to the colors from this palette.\n",
    "from scipy import stats #Documentation stats package of scipy https://docs.scipy.org/doc/scipy/reference/stats.html#module-scipy.stats"
   ]
  },
  {
   "cell_type": "code",
   "execution_count": 8,
   "metadata": {
    "scrolled": true
   },
   "outputs": [
    {
     "data": {
      "text/html": [
       "<div>\n",
       "<style scoped>\n",
       "    .dataframe tbody tr th:only-of-type {\n",
       "        vertical-align: middle;\n",
       "    }\n",
       "\n",
       "    .dataframe tbody tr th {\n",
       "        vertical-align: top;\n",
       "    }\n",
       "\n",
       "    .dataframe thead th {\n",
       "        text-align: right;\n",
       "    }\n",
       "</style>\n",
       "<table border=\"1\" class=\"dataframe\">\n",
       "  <thead>\n",
       "    <tr style=\"text-align: right;\">\n",
       "      <th></th>\n",
       "      <th>revenue</th>\n",
       "      <th>outcalls</th>\n",
       "      <th>incalls</th>\n",
       "      <th>months</th>\n",
       "      <th>eqpdays</th>\n",
       "      <th>webcap</th>\n",
       "      <th>marryyes</th>\n",
       "      <th>travel</th>\n",
       "      <th>pcown</th>\n",
       "      <th>creditcd</th>\n",
       "      <th>retcalls</th>\n",
       "      <th>churndep</th>\n",
       "    </tr>\n",
       "  </thead>\n",
       "  <tbody>\n",
       "    <tr>\n",
       "      <th>0</th>\n",
       "      <td>83.53</td>\n",
       "      <td>20.00</td>\n",
       "      <td>1.0</td>\n",
       "      <td>31</td>\n",
       "      <td>745</td>\n",
       "      <td>1</td>\n",
       "      <td>0</td>\n",
       "      <td>0</td>\n",
       "      <td>0</td>\n",
       "      <td>0</td>\n",
       "      <td>4</td>\n",
       "      <td>1</td>\n",
       "    </tr>\n",
       "    <tr>\n",
       "      <th>1</th>\n",
       "      <td>29.99</td>\n",
       "      <td>0.00</td>\n",
       "      <td>0.0</td>\n",
       "      <td>52</td>\n",
       "      <td>1441</td>\n",
       "      <td>0</td>\n",
       "      <td>0</td>\n",
       "      <td>0</td>\n",
       "      <td>1</td>\n",
       "      <td>1</td>\n",
       "      <td>3</td>\n",
       "      <td>1</td>\n",
       "    </tr>\n",
       "    <tr>\n",
       "      <th>2</th>\n",
       "      <td>37.75</td>\n",
       "      <td>2.67</td>\n",
       "      <td>0.0</td>\n",
       "      <td>25</td>\n",
       "      <td>572</td>\n",
       "      <td>0</td>\n",
       "      <td>0</td>\n",
       "      <td>0</td>\n",
       "      <td>1</td>\n",
       "      <td>1</td>\n",
       "      <td>3</td>\n",
       "      <td>1</td>\n",
       "    </tr>\n",
       "    <tr>\n",
       "      <th>3</th>\n",
       "      <td>5.25</td>\n",
       "      <td>0.00</td>\n",
       "      <td>0.0</td>\n",
       "      <td>45</td>\n",
       "      <td>1354</td>\n",
       "      <td>0</td>\n",
       "      <td>0</td>\n",
       "      <td>0</td>\n",
       "      <td>0</td>\n",
       "      <td>0</td>\n",
       "      <td>2</td>\n",
       "      <td>1</td>\n",
       "    </tr>\n",
       "    <tr>\n",
       "      <th>4</th>\n",
       "      <td>42.71</td>\n",
       "      <td>8.67</td>\n",
       "      <td>0.0</td>\n",
       "      <td>27</td>\n",
       "      <td>224</td>\n",
       "      <td>1</td>\n",
       "      <td>0</td>\n",
       "      <td>0</td>\n",
       "      <td>0</td>\n",
       "      <td>0</td>\n",
       "      <td>3</td>\n",
       "      <td>1</td>\n",
       "    </tr>\n",
       "  </tbody>\n",
       "</table>\n",
       "</div>"
      ],
      "text/plain": [
       "   revenue  outcalls  incalls  months  eqpdays  webcap  marryyes  travel  \\\n",
       "0    83.53     20.00      1.0      31      745       1         0       0   \n",
       "1    29.99      0.00      0.0      52     1441       0         0       0   \n",
       "2    37.75      2.67      0.0      25      572       0         0       0   \n",
       "3     5.25      0.00      0.0      45     1354       0         0       0   \n",
       "4    42.71      8.67      0.0      27      224       1         0       0   \n",
       "\n",
       "   pcown  creditcd  retcalls  churndep  \n",
       "0      0         0         4         1  \n",
       "1      1         1         3         1  \n",
       "2      1         1         3         1  \n",
       "3      0         0         2         1  \n",
       "4      0         0         3         1  "
      ]
     },
     "execution_count": 8,
     "metadata": {},
     "output_type": "execute_result"
    }
   ],
   "source": [
    "######################################### Data Exploration #########################################\n",
    "#Load data_set\n",
    "df = pd.read_csv(r'C:\\Users\\seanj\\Desktop\\Intro to Business Analytics\\HW1\\HW1_Data.csv')\n",
    "df.head() #df.head() is used to check the first few rows of the dataset"
   ]
  },
  {
   "cell_type": "code",
   "execution_count": 9,
   "metadata": {},
   "outputs": [
    {
     "data": {
      "text/html": [
       "<div>\n",
       "<style scoped>\n",
       "    .dataframe tbody tr th:only-of-type {\n",
       "        vertical-align: middle;\n",
       "    }\n",
       "\n",
       "    .dataframe tbody tr th {\n",
       "        vertical-align: top;\n",
       "    }\n",
       "\n",
       "    .dataframe thead th {\n",
       "        text-align: right;\n",
       "    }\n",
       "</style>\n",
       "<table border=\"1\" class=\"dataframe\">\n",
       "  <thead>\n",
       "    <tr style=\"text-align: right;\">\n",
       "      <th></th>\n",
       "      <th>revenue</th>\n",
       "      <th>outcalls</th>\n",
       "      <th>incalls</th>\n",
       "      <th>months</th>\n",
       "      <th>eqpdays</th>\n",
       "      <th>webcap</th>\n",
       "      <th>marryyes</th>\n",
       "      <th>travel</th>\n",
       "      <th>pcown</th>\n",
       "      <th>creditcd</th>\n",
       "      <th>retcalls</th>\n",
       "      <th>churndep</th>\n",
       "    </tr>\n",
       "  </thead>\n",
       "  <tbody>\n",
       "    <tr>\n",
       "      <th>count</th>\n",
       "      <td>31844.000000</td>\n",
       "      <td>31844.000000</td>\n",
       "      <td>31844.000000</td>\n",
       "      <td>31844.000000</td>\n",
       "      <td>31844.000000</td>\n",
       "      <td>31844.000000</td>\n",
       "      <td>31844.000000</td>\n",
       "      <td>31844.000000</td>\n",
       "      <td>31844.000000</td>\n",
       "      <td>31844.000000</td>\n",
       "      <td>31844.000000</td>\n",
       "      <td>31844.000000</td>\n",
       "    </tr>\n",
       "    <tr>\n",
       "      <th>mean</th>\n",
       "      <td>58.622173</td>\n",
       "      <td>24.926872</td>\n",
       "      <td>8.052027</td>\n",
       "      <td>18.757097</td>\n",
       "      <td>391.789222</td>\n",
       "      <td>0.894705</td>\n",
       "      <td>0.363177</td>\n",
       "      <td>0.057248</td>\n",
       "      <td>0.184933</td>\n",
       "      <td>0.677113</td>\n",
       "      <td>0.043964</td>\n",
       "      <td>0.497362</td>\n",
       "    </tr>\n",
       "    <tr>\n",
       "      <th>std</th>\n",
       "      <td>44.101060</td>\n",
       "      <td>34.747400</td>\n",
       "      <td>16.543853</td>\n",
       "      <td>9.546107</td>\n",
       "      <td>254.746976</td>\n",
       "      <td>0.306937</td>\n",
       "      <td>0.480923</td>\n",
       "      <td>0.232319</td>\n",
       "      <td>0.388249</td>\n",
       "      <td>0.467587</td>\n",
       "      <td>0.224189</td>\n",
       "      <td>0.500001</td>\n",
       "    </tr>\n",
       "    <tr>\n",
       "      <th>min</th>\n",
       "      <td>0.000000</td>\n",
       "      <td>0.000000</td>\n",
       "      <td>0.000000</td>\n",
       "      <td>6.000000</td>\n",
       "      <td>0.000000</td>\n",
       "      <td>0.000000</td>\n",
       "      <td>0.000000</td>\n",
       "      <td>0.000000</td>\n",
       "      <td>0.000000</td>\n",
       "      <td>0.000000</td>\n",
       "      <td>0.000000</td>\n",
       "      <td>0.000000</td>\n",
       "    </tr>\n",
       "    <tr>\n",
       "      <th>25%</th>\n",
       "      <td>33.440000</td>\n",
       "      <td>3.000000</td>\n",
       "      <td>0.000000</td>\n",
       "      <td>11.000000</td>\n",
       "      <td>212.000000</td>\n",
       "      <td>1.000000</td>\n",
       "      <td>0.000000</td>\n",
       "      <td>0.000000</td>\n",
       "      <td>0.000000</td>\n",
       "      <td>0.000000</td>\n",
       "      <td>0.000000</td>\n",
       "      <td>0.000000</td>\n",
       "    </tr>\n",
       "    <tr>\n",
       "      <th>50%</th>\n",
       "      <td>48.335000</td>\n",
       "      <td>13.330000</td>\n",
       "      <td>2.000000</td>\n",
       "      <td>16.000000</td>\n",
       "      <td>341.000000</td>\n",
       "      <td>1.000000</td>\n",
       "      <td>0.000000</td>\n",
       "      <td>0.000000</td>\n",
       "      <td>0.000000</td>\n",
       "      <td>1.000000</td>\n",
       "      <td>0.000000</td>\n",
       "      <td>0.000000</td>\n",
       "    </tr>\n",
       "    <tr>\n",
       "      <th>75%</th>\n",
       "      <td>70.970000</td>\n",
       "      <td>33.330000</td>\n",
       "      <td>9.000000</td>\n",
       "      <td>24.000000</td>\n",
       "      <td>530.000000</td>\n",
       "      <td>1.000000</td>\n",
       "      <td>1.000000</td>\n",
       "      <td>0.000000</td>\n",
       "      <td>0.000000</td>\n",
       "      <td>1.000000</td>\n",
       "      <td>0.000000</td>\n",
       "      <td>1.000000</td>\n",
       "    </tr>\n",
       "    <tr>\n",
       "      <th>max</th>\n",
       "      <td>861.110000</td>\n",
       "      <td>610.330000</td>\n",
       "      <td>404.000000</td>\n",
       "      <td>60.000000</td>\n",
       "      <td>1812.000000</td>\n",
       "      <td>1.000000</td>\n",
       "      <td>1.000000</td>\n",
       "      <td>1.000000</td>\n",
       "      <td>1.000000</td>\n",
       "      <td>1.000000</td>\n",
       "      <td>4.000000</td>\n",
       "      <td>1.000000</td>\n",
       "    </tr>\n",
       "  </tbody>\n",
       "</table>\n",
       "</div>"
      ],
      "text/plain": [
       "            revenue      outcalls       incalls        months       eqpdays  \\\n",
       "count  31844.000000  31844.000000  31844.000000  31844.000000  31844.000000   \n",
       "mean      58.622173     24.926872      8.052027     18.757097    391.789222   \n",
       "std       44.101060     34.747400     16.543853      9.546107    254.746976   \n",
       "min        0.000000      0.000000      0.000000      6.000000      0.000000   \n",
       "25%       33.440000      3.000000      0.000000     11.000000    212.000000   \n",
       "50%       48.335000     13.330000      2.000000     16.000000    341.000000   \n",
       "75%       70.970000     33.330000      9.000000     24.000000    530.000000   \n",
       "max      861.110000    610.330000    404.000000     60.000000   1812.000000   \n",
       "\n",
       "             webcap      marryyes        travel         pcown      creditcd  \\\n",
       "count  31844.000000  31844.000000  31844.000000  31844.000000  31844.000000   \n",
       "mean       0.894705      0.363177      0.057248      0.184933      0.677113   \n",
       "std        0.306937      0.480923      0.232319      0.388249      0.467587   \n",
       "min        0.000000      0.000000      0.000000      0.000000      0.000000   \n",
       "25%        1.000000      0.000000      0.000000      0.000000      0.000000   \n",
       "50%        1.000000      0.000000      0.000000      0.000000      1.000000   \n",
       "75%        1.000000      1.000000      0.000000      0.000000      1.000000   \n",
       "max        1.000000      1.000000      1.000000      1.000000      1.000000   \n",
       "\n",
       "           retcalls      churndep  \n",
       "count  31844.000000  31844.000000  \n",
       "mean       0.043964      0.497362  \n",
       "std        0.224189      0.500001  \n",
       "min        0.000000      0.000000  \n",
       "25%        0.000000      0.000000  \n",
       "50%        0.000000      0.000000  \n",
       "75%        0.000000      1.000000  \n",
       "max        4.000000      1.000000  "
      ]
     },
     "execution_count": 9,
     "metadata": {},
     "output_type": "execute_result"
    }
   ],
   "source": [
    "# Explore the data\n",
    "df.describe()\n",
    "\n",
    "# Drop the NAs on the target variable, churndep\n",
    "df.dropna(subset=['churndep'])\n",
    "\n",
    "# We notice that there are some negative values on columns, 'eqpdays' and 'revenue'\n",
    "# I am going to filter out negative values of 'eqpdays' and 'revenue'\n",
    "df = df[df['eqpdays'] >= 0] \n",
    "df = df[df['revenue'] >= 0]\n",
    "\n",
    "# Explore the data again\n",
    "df.describe()"
   ]
  },
  {
   "cell_type": "code",
   "execution_count": 10,
   "metadata": {},
   "outputs": [
    {
     "name": "stdout",
     "output_type": "stream",
     "text": [
      "The frequency of instances per class in target variable is:  {0: 16006, 1: 15838}\n",
      "The names of the two distinct classes in target variables are:  [1, 0]\n"
     ]
    },
    {
     "data": {
      "image/png": "[encoded data removed]",
      "text/plain": [
       "<Figure size 432x288 with 1 Axes>"
      ]
     },
     "metadata": {},
     "output_type": "display_data"
    }
   ],
   "source": [
    "df.hist(column='churndep')\n",
    "# The distribution of the two classes is almost equal.\n",
    "\n",
    "# keep specific attributs (Include all the x variables except the target variable in the last column)\n",
    "X = df.iloc[:,0:-1] \n",
    "# or X = df.iloc[:,:11]\n",
    "feature= [\"revenue\", \"outcalls\",\"incalls\", \"months\", \"eqpdays\", \"webcap\", \"marryyes\", \"travel\", \"pcown\", \"creditcd\", \"retcalls\"]\n",
    "\n",
    "# Retriving Target Variable\n",
    "y = df.iloc[:,11]\n",
    "\n",
    "# Exploring Target Variable\n",
    "# I want to find out the number of each instances in the target variable\n",
    "unique, counts = np.unique(y, return_counts=True) # 3 distinct classes equally represented\n",
    "print(\"The frequency of instances per class in target variable is: \" , dict(zip(unique, counts)))\n",
    "print(\"The names of the two distinct classes in target variables are: \", list(y.unique())) "
   ]
  },
  {
   "cell_type": "code",
   "execution_count": 11,
   "metadata": {},
   "outputs": [
    {
     "data": {
      "text/plain": [
       "churndep\n",
       "0    AxesSubplot(0.125,0.125;0.775x0.755)\n",
       "1    AxesSubplot(0.125,0.125;0.775x0.755)\n",
       "Name: revenue, dtype: object"
      ]
     },
     "execution_count": 11,
     "metadata": {},
     "output_type": "execute_result"
    },
    {
     "data": {
      "image/png": "[encoded data removed]",
      "text/plain": [
       "<Figure size 432x288 with 1 Axes>"
      ]
     },
     "metadata": {},
     "output_type": "display_data"
    }
   ],
   "source": [
    "# We can also check if a feature has a very skewed distribution of classes. \n",
    "# For example, to plot a histogram of revenue, we can do the following:\n",
    "df.groupby('churndep').revenue.hist(alpha=0.7)\n",
    "# To plot the other attributes, replace ‘revenue’ with the other attribute within our model."
   ]
  },
  {
   "cell_type": "code",
   "execution_count": 12,
   "metadata": {},
   "outputs": [
    {
     "data": {
      "image/png": "[encoded data removed]",
      "text/plain": [
       "<Figure size 864x864 with 2 Axes>"
      ]
     },
     "metadata": {},
     "output_type": "display_data"
    }
   ],
   "source": [
    "import seaborn as sns\n",
    "corrmatrix = df.corr()\n",
    "top_correlated_features = corrmatrix.index\n",
    "plt.figure(figsize=(12,12))\n",
    "\n",
    "# plot heat map\n",
    "plot = sns.heatmap(df[top_correlated_features].corr(), annot=True, cmap=\"RdYlGn\")"
   ]
  },
  {
   "cell_type": "code",
   "execution_count": null,
   "metadata": {},
   "outputs": [],
   "source": [
    "# A pairplot plot a pairwise relationships in a dataset. \n",
    "sns.set()\n",
    "sns.pairplot(df)"
   ]
  },
  {
   "cell_type": "markdown",
   "metadata": {},
   "source": [
    "# Model Training"
   ]
  },
  {
   "cell_type": "code",
   "execution_count": 14,
   "metadata": {},
   "outputs": [],
   "source": [
    "# The following code trains a DecisionTreeClassifier on the HW1 dataset\n",
    "# Decision Tree Induction (Fitting the Model)\n",
    "# Documentation https://scikit-learn.org/stable/modules/generated/sklearn.tree.DecisionTreeClassifier.html"
   ]
  },
  {
   "cell_type": "code",
   "execution_count": 15,
   "metadata": {},
   "outputs": [],
   "source": [
    "from sklearn.model_selection import train_test_split\n",
    "from sklearn.metrics import accuracy_score, f1_score, classification_report\n",
    "\n",
    "# split validation\n",
    "X_train, X_test, y_train, y_test = train_test_split(\n",
    "X, y, test_size=0.30, random_state=1)"
   ]
  },
  {
   "cell_type": "code",
   "execution_count": 16,
   "metadata": {},
   "outputs": [
    {
     "name": "stdout",
     "output_type": "stream",
     "text": [
      "2 0.5861419300816412\n",
      "3 0.5861419300816412\n",
      "4 0.5959807410508687\n",
      "5 0.5959807410508687\n",
      "6 0.5959807410508687\n",
      "7 0.5997487963156793\n",
      "8 0.5997487963156793\n",
      "9 0.5992254553066778\n",
      "10 0.5992254553066778\n",
      "11 0.5992254553066778\n",
      "12 0.5992254553066778\n",
      "13 0.5975507640778731\n",
      "14 0.5983881096922755\n",
      "15 0.5983881096922755\n",
      "16 0.5983881096922755\n",
      "17 0.5983881096922755\n",
      "18 0.5983881096922755\n",
      "19 0.5983881096922755\n",
      "20 0.5983881096922755\n",
      "21 0.5983881096922755\n",
      "22 0.5982834414904752\n",
      "23 0.5982834414904752\n",
      "24 0.5985974460958761\n",
      "25 0.5985974460958761\n",
      "26 0.5985974460958761\n",
      "27 0.5985974460958761\n",
      "28 0.5985974460958761\n",
      "29 0.5985974460958761\n"
     ]
    }
   ],
   "source": [
    "# After properly splitting the data we can finally start modeling and testing out which parameters should be tuned to improve model performance. \n",
    "# In order to compare different models we will look at Accuracy of the test set as a benchmark.\n",
    "\n",
    "# try different max_leaf_nodes parameters:\n",
    "for i in range(2,30,1):\n",
    "    clf1 = DecisionTreeClassifier(criterion='entropy', splitter='best', max_depth=None, max_leaf_nodes=i)\n",
    "    clf1 = clf1.fit(X_train, y_train)\n",
    "    y_pred1 = clf1.predict(X_test)\n",
    "    rate = accuracy_score(y_test, y_pred1)\n",
    "    print(str(i) + \" \" + str(rate))\n",
    "    \n",
    "    # Pick the one with highest number (accuracy)"
   ]
  },
  {
   "cell_type": "code",
   "execution_count": 17,
   "metadata": {},
   "outputs": [
    {
     "name": "stdout",
     "output_type": "stream",
     "text": [
      "0.0 0.5985974460958761\n",
      "0.001 0.5985974460958761\n",
      "0.002 0.5985974460958761\n",
      "0.003 0.5985974460958761\n",
      "0.004 0.5985974460958761\n",
      "0.005 0.5985974460958761\n",
      "0.006 0.5985974460958761\n",
      "0.007 0.5985974460958761\n",
      "0.008 0.5985974460958761\n",
      "0.009000000000000001 0.5985974460958761\n",
      "0.01 0.5985974460958761\n"
     ]
    }
   ],
   "source": [
    "# try different min_impurity_decrease values:\n",
    "import numpy as np\n",
    "\n",
    "for i in np.arange(0,0.011,0.001):\n",
    "    clf2 = DecisionTreeClassifier(criterion='entropy', splitter='best', max_depth=None, min_impurity_decrease=i)\n",
    "    clf2 = clf2.fit(X_train, y_train)\n",
    "    y_pred2 = clf1.predict(X_test)\n",
    "    rate = accuracy_score(y_test, y_pred2)\n",
    "    print(str(i) + \" \" + str(rate))\n",
    "    \n",
    "    # Pick the one with highest number (accuracy)"
   ]
  },
  {
   "cell_type": "code",
   "execution_count": null,
   "metadata": {},
   "outputs": [],
   "source": []
  },
  {
   "cell_type": "code",
   "execution_count": 32,
   "metadata": {},
   "outputs": [],
   "source": [
    "######################################### Imports #########################################\n",
    "from sklearn.tree import export_graphviz\n",
    "# If you don't have graphviz package, you need to install it https://anaconda.org/anaconda/graphviz\n",
    "# How to install Graphviz with Anaconda https://anaconda.org/anaconda/graphviz\n",
    "# conda install -c anaconda graphviz \n",
    "\n",
    "from IPython.display import Image\n",
    "\n",
    "# ATTENTION: You need to change the working directory\n",
    "# For instance, I had to change it to:\n",
    "#os.chdir(\"/Users/vtodri/Dropbox/Vilma/Teaching/Emory/Fall/MSBA/Lectures/Week 2\")\n",
    "os.chdir(\"/Users/seanj/Desktop/Intro to Business Analytics/HW1\")\n",
    "\n",
    "# make the images and decision_trees path in order for image_path to work\n",
    "if not os.path.exists('./images/decision_trees'):\n",
    "    os.makedirs('./images/decision_trees')\n",
    "    \n",
    "# change working directory again to where the df.dot file will be made\n",
    "# set the working directory to be within the newly created ./images/decision_trees\n",
    "# os.chdir(\"./images/decision_trees\")    \n",
    "os.chdir(\"./images/decision_trees\")\n",
    "\n",
    "import graphviz\n",
    "from sklearn import tree\n",
    "# You can visualize the trained Decision Tree by first using the export_graphviz()\n",
    "# method to output a graph definition file called iris_tree.dot"
   ]
  },
  {
   "cell_type": "code",
   "execution_count": 19,
   "metadata": {},
   "outputs": [],
   "source": [
    "################################# Visualization of Decision Tree ##########################"
   ]
  },
  {
   "cell_type": "code",
   "execution_count": 30,
   "metadata": {},
   "outputs": [
    {
     "data": {
      "text/plain": [
       "DecisionTreeClassifier(ccp_alpha=0.0, class_weight=None, criterion='gini',\n",
       "                       max_depth=2, max_features=None, max_leaf_nodes=None,\n",
       "                       min_impurity_decrease=0.0, min_impurity_split=None,\n",
       "                       min_samples_leaf=1, min_samples_split=2,\n",
       "                       min_weight_fraction_leaf=0.0, presort='deprecated',\n",
       "                       random_state=42, splitter='best')"
      ]
     },
     "execution_count": 30,
     "metadata": {},
     "output_type": "execute_result"
    }
   ],
   "source": [
    "tree_clf = DecisionTreeClassifier(max_depth=2, random_state=42) # Be aware of default parameters\n",
    "tree_clf.fit(X, y)"
   ]
  },
  {
   "cell_type": "code",
   "execution_count": 35,
   "metadata": {},
   "outputs": [
    {
     "ename": "FileNotFoundError",
     "evalue": "[Errno 2] No such file or directory: '.\\\\images\\\\decision_trees\\\\tree.dot'",
     "output_type": "error",
     "traceback": [
      "\u001b[1;31m---------------------------------------------------------------------------\u001b[0m",
      "\u001b[1;31mFileNotFoundError\u001b[0m                         Traceback (most recent call last)",
      "\u001b[1;32m<ipython-input-35-ad3213b83d40>\u001b[0m in \u001b[0;36m<module>\u001b[1;34m\u001b[0m\n\u001b[0;32m      5\u001b[0m         \u001b[0mclass_names\u001b[0m\u001b[1;33m=\u001b[0m\u001b[1;34m'churn'\u001b[0m\u001b[1;33m,\u001b[0m\u001b[1;33m\u001b[0m\u001b[1;33m\u001b[0m\u001b[0m\n\u001b[0;32m      6\u001b[0m         \u001b[0mrounded\u001b[0m\u001b[1;33m=\u001b[0m\u001b[1;32mTrue\u001b[0m\u001b[1;33m,\u001b[0m\u001b[1;33m\u001b[0m\u001b[1;33m\u001b[0m\u001b[0m\n\u001b[1;32m----> 7\u001b[1;33m         \u001b[0mfilled\u001b[0m\u001b[1;33m=\u001b[0m\u001b[1;32mTrue\u001b[0m\u001b[1;33m\u001b[0m\u001b[1;33m\u001b[0m\u001b[0m\n\u001b[0m\u001b[0;32m      8\u001b[0m     )\n\u001b[0;32m      9\u001b[0m \u001b[1;33m\u001b[0m\u001b[0m\n",
      "\u001b[1;32m~\\anaconda3\\lib\\site-packages\\sklearn\\tree\\_export.py\u001b[0m in \u001b[0;36mexport_graphviz\u001b[1;34m(decision_tree, out_file, max_depth, feature_names, class_names, label, filled, leaves_parallel, impurity, node_ids, proportion, rotate, rounded, special_characters, precision)\u001b[0m\n\u001b[0;32m    748\u001b[0m     \u001b[1;32mtry\u001b[0m\u001b[1;33m:\u001b[0m\u001b[1;33m\u001b[0m\u001b[1;33m\u001b[0m\u001b[0m\n\u001b[0;32m    749\u001b[0m         \u001b[1;32mif\u001b[0m \u001b[0misinstance\u001b[0m\u001b[1;33m(\u001b[0m\u001b[0mout_file\u001b[0m\u001b[1;33m,\u001b[0m \u001b[0mstr\u001b[0m\u001b[1;33m)\u001b[0m\u001b[1;33m:\u001b[0m\u001b[1;33m\u001b[0m\u001b[1;33m\u001b[0m\u001b[0m\n\u001b[1;32m--> 750\u001b[1;33m             \u001b[0mout_file\u001b[0m \u001b[1;33m=\u001b[0m \u001b[0mopen\u001b[0m\u001b[1;33m(\u001b[0m\u001b[0mout_file\u001b[0m\u001b[1;33m,\u001b[0m \u001b[1;34m\"w\"\u001b[0m\u001b[1;33m,\u001b[0m \u001b[0mencoding\u001b[0m\u001b[1;33m=\u001b[0m\u001b[1;34m\"utf-8\"\u001b[0m\u001b[1;33m)\u001b[0m\u001b[1;33m\u001b[0m\u001b[1;33m\u001b[0m\u001b[0m\n\u001b[0m\u001b[0;32m    751\u001b[0m             \u001b[0mown_file\u001b[0m \u001b[1;33m=\u001b[0m \u001b[1;32mTrue\u001b[0m\u001b[1;33m\u001b[0m\u001b[1;33m\u001b[0m\u001b[0m\n\u001b[0;32m    752\u001b[0m \u001b[1;33m\u001b[0m\u001b[0m\n",
      "\u001b[1;31mFileNotFoundError\u001b[0m: [Errno 2] No such file or directory: '.\\\\images\\\\decision_trees\\\\tree.dot'"
     ]
    }
   ],
   "source": [
    "export_graphviz(\n",
    "        tree_clf,\n",
    "        out_file=image_path(\"tree.dot\"),\n",
    "        feature_names=feature,\n",
    "        class_names='churn',\n",
    "        rounded=True,\n",
    "        filled=True\n",
    "    )\n",
    "\n",
    "# Then you can convert this .dot file to a variety of formats such as PDF or PNG using\n",
    "# the dot command-line tool from the graphviz package.\n",
    "\n",
    "# change working directory again to where the iris_tree.dot file will be made\n",
    "# set the working directory to be within the newly created ./images/decision_trees\n",
    "os.chdir(\"./images/decision_trees\")"
   ]
  },
  {
   "cell_type": "code",
   "execution_count": 36,
   "metadata": {},
   "outputs": [
    {
     "ename": "FileNotFoundError",
     "evalue": "[Errno 2] No such file or directory: 'tree.dot'",
     "output_type": "error",
     "traceback": [
      "\u001b[1;31m---------------------------------------------------------------------------\u001b[0m",
      "\u001b[1;31mFileNotFoundError\u001b[0m                         Traceback (most recent call last)",
      "\u001b[1;32m<ipython-input-36-937cd1d91fbb>\u001b[0m in \u001b[0;36m<module>\u001b[1;34m\u001b[0m\n\u001b[0;32m      1\u001b[0m \u001b[1;31m#An alternative way to do it in python\u001b[0m\u001b[1;33m\u001b[0m\u001b[1;33m\u001b[0m\u001b[1;33m\u001b[0m\u001b[0m\n\u001b[0;32m      2\u001b[0m \u001b[1;32mimport\u001b[0m \u001b[0mpydot\u001b[0m  \u001b[1;31m# run 'pip install pydot' in anaconda prompt from 'https://stackoverflow.com/questions/53773344/importerrorno-module-named-pydot'\u001b[0m\u001b[1;33m\u001b[0m\u001b[1;33m\u001b[0m\u001b[0m\n\u001b[1;32m----> 3\u001b[1;33m \u001b[1;33m(\u001b[0m\u001b[0mgraph\u001b[0m\u001b[1;33m,\u001b[0m\u001b[1;33m)\u001b[0m \u001b[1;33m=\u001b[0m \u001b[0mpydot\u001b[0m\u001b[1;33m.\u001b[0m\u001b[0mgraph_from_dot_file\u001b[0m\u001b[1;33m(\u001b[0m\u001b[1;34m'tree.dot'\u001b[0m\u001b[1;33m)\u001b[0m\u001b[1;33m\u001b[0m\u001b[1;33m\u001b[0m\u001b[0m\n\u001b[0m\u001b[0;32m      4\u001b[0m \u001b[0mgraph\u001b[0m\u001b[1;33m.\u001b[0m\u001b[0mwrite_png\u001b[0m\u001b[1;33m(\u001b[0m\u001b[1;34m'tree.png'\u001b[0m\u001b[1;33m)\u001b[0m\u001b[1;33m\u001b[0m\u001b[1;33m\u001b[0m\u001b[0m\n\u001b[0;32m      5\u001b[0m \u001b[1;33m\u001b[0m\u001b[0m\n",
      "\u001b[1;32m~\\anaconda3\\lib\\site-packages\\pydot.py\u001b[0m in \u001b[0;36mgraph_from_dot_file\u001b[1;34m(path, encoding)\u001b[0m\n\u001b[0;32m    293\u001b[0m     \u001b[1;33m@\u001b[0m\u001b[0mrtype\u001b[0m\u001b[1;33m:\u001b[0m\u001b[0;31m \u001b[0m\u001b[0;31m`\u001b[0m\u001b[0mlist\u001b[0m\u001b[0;31m`\u001b[0m \u001b[0mof\u001b[0m\u001b[0;31m \u001b[0m\u001b[0;31m`\u001b[0m\u001b[0mpydot\u001b[0m\u001b[1;33m.\u001b[0m\u001b[0mDot\u001b[0m\u001b[0;31m`\u001b[0m\u001b[1;33m\u001b[0m\u001b[1;33m\u001b[0m\u001b[0m\n\u001b[0;32m    294\u001b[0m     \"\"\"\n\u001b[1;32m--> 295\u001b[1;33m     \u001b[1;32mwith\u001b[0m \u001b[0mio\u001b[0m\u001b[1;33m.\u001b[0m\u001b[0mopen\u001b[0m\u001b[1;33m(\u001b[0m\u001b[0mpath\u001b[0m\u001b[1;33m,\u001b[0m \u001b[1;34m'rt'\u001b[0m\u001b[1;33m,\u001b[0m \u001b[0mencoding\u001b[0m\u001b[1;33m=\u001b[0m\u001b[0mencoding\u001b[0m\u001b[1;33m)\u001b[0m \u001b[1;32mas\u001b[0m \u001b[0mf\u001b[0m\u001b[1;33m:\u001b[0m\u001b[1;33m\u001b[0m\u001b[1;33m\u001b[0m\u001b[0m\n\u001b[0m\u001b[0;32m    296\u001b[0m         \u001b[0ms\u001b[0m \u001b[1;33m=\u001b[0m \u001b[0mf\u001b[0m\u001b[1;33m.\u001b[0m\u001b[0mread\u001b[0m\u001b[1;33m(\u001b[0m\u001b[1;33m)\u001b[0m\u001b[1;33m\u001b[0m\u001b[1;33m\u001b[0m\u001b[0m\n\u001b[0;32m    297\u001b[0m     \u001b[1;32mif\u001b[0m \u001b[1;32mnot\u001b[0m \u001b[0mPY3\u001b[0m\u001b[1;33m:\u001b[0m\u001b[1;33m\u001b[0m\u001b[1;33m\u001b[0m\u001b[0m\n",
      "\u001b[1;31mFileNotFoundError\u001b[0m: [Errno 2] No such file or directory: 'tree.dot'"
     ]
    }
   ],
   "source": [
    "#An alternative way to do it in python\n",
    "import pydot  # run 'pip install pydot' in anaconda prompt from 'https://stackoverflow.com/questions/53773344/importerrorno-module-named-pydot'\n",
    "(graph,) = pydot.graph_from_dot_file('tree.dot')\n",
    "graph.write_png('tree.png')\n",
    "\n",
    "# Note: Graphviz is an open source graph visualization software package, available at http://www.graphviz.org/\n",
    "# Converting .dot file to PNG Example: Run command \"dot -Tpng tree.dot -o tree.png\" in the terminal after installing graphviz package \n",
    "# and making sure you are in the right directory (same directory as the .dot file)\n",
    "\n",
    "print(os.getcwd())\n",
    "path_png = os.path.join(PROJECT_ROOT_DIR, \"images\", CHAPTER_ID, \"tree.png\")\n",
    "Image(filename=\"tree.png\")"
   ]
  },
  {
   "cell_type": "markdown",
   "metadata": {},
   "source": [
    "# Model Evaluation"
   ]
  },
  {
   "cell_type": "code",
   "execution_count": 21,
   "metadata": {},
   "outputs": [],
   "source": [
    "######################################### Imports #########################################\n",
    "from sklearn.metrics import confusion_matrix\n",
    "import itertools\n",
    "from sklearn.model_selection import train_test_split\n",
    "import matplotlib.pyplot as plt"
   ]
  },
  {
   "cell_type": "code",
   "execution_count": 22,
   "metadata": {},
   "outputs": [],
   "source": [
    "###################################### Split the Data ######################################\n",
    "# Split the data into a training set and a test set\n",
    "X_train, X_test, y_train, y_test = train_test_split(X, y, train_size=0.8, test_size=0.2, random_state=21)\n",
    "# Note: Always a good idea to shuffle the dataset before you split it into training and testing\n",
    "# train_test_split performs shuffling by default\n",
    "# In this case, I made a split of 80/20 between training data and test data"
   ]
  },
  {
   "cell_type": "code",
   "execution_count": 23,
   "metadata": {},
   "outputs": [],
   "source": [
    "############################# Build Model & Apply it to the Test Set #######################"
   ]
  },
  {
   "cell_type": "code",
   "execution_count": 24,
   "metadata": {},
   "outputs": [
    {
     "name": "stdout",
     "output_type": "stream",
     "text": [
      "              precision    recall  f1-score   support\n",
      "\n",
      "   Not Churn       0.66      0.43      0.52      3194\n",
      "       Churn       0.57      0.78      0.66      3175\n",
      "\n",
      "    accuracy                           0.60      6369\n",
      "   macro avg       0.62      0.60      0.59      6369\n",
      "weighted avg       0.62      0.60      0.59      6369\n",
      "\n"
     ]
    }
   ],
   "source": [
    "#Build the decision tree (Per Instruction)\n",
    "clf1 = DecisionTreeClassifier(criterion='entropy', splitter='best', max_depth=None, max_leaf_nodes=14, min_impurity_decrease=0.001, random_state=42) \n",
    "\n",
    "# \"clf3.fit(X_train, y_train)\"\" fits the model and then\n",
    "# \".predict(X_test)\" makes predicitions based on the test set\n",
    "y_pred = clf1.fit(X_train, y_train).predict(X_test)\n",
    "\n",
    "print(classification_report(y_test, y_pred, target_names=['Not Churn', 'Churn']))"
   ]
  },
  {
   "cell_type": "code",
   "execution_count": 29,
   "metadata": {},
   "outputs": [],
   "source": [
    "#Build the decision tree (Modified 1)\n",
    "clf2 = tree.DecisionTreeClassifier(criterion='gini', max_depth=None, random_state=21)\n",
    "\n",
    "# \"clf3.fit(X_train, y_train)\"\" fits the model and then\n",
    "# \".predict(X_test)\" makes predicitions based on the test set\n",
    "y_pred_1 = clf2.fit(X_train, y_train).predict(X_test)"
   ]
  },
  {
   "cell_type": "code",
   "execution_count": null,
   "metadata": {},
   "outputs": [],
   "source": []
  },
  {
   "cell_type": "code",
   "execution_count": 26,
   "metadata": {},
   "outputs": [],
   "source": [
    "###################################### Confusion Matrix #####################################\n",
    "# Function that prints and plots the confusion matrix.\n",
    "# Normalization can be applied by setting `normalize=True` (see below for examples)\n",
    "def plot_confusion_matrix(cm, classes,\n",
    "                          normalize=False,\n",
    "                          title='Confusion matrix',\n",
    "                          cmap=plt.cm.Blues):\n",
    "    \"\"\"\n",
    "    This function prints and plots the confusion matrix.\n",
    "    Normalization can be applied by setting `normalize=True`.\n",
    "    \"\"\"\n",
    "    if normalize:\n",
    "        cm = cm.astype('float') / cm.sum(axis=1)[:, np.newaxis]\n",
    "        print(\"Normalized confusion matrix by Sean Jung\")\n",
    "    else:\n",
    "        print('Confusion matrix, without normalization by Sean Jung')\n",
    "\n",
    "    print(cm)\n",
    "\n",
    "    plt.imshow(cm, interpolation='nearest', cmap=cmap)\n",
    "    plt.title(title)\n",
    "    plt.colorbar()\n",
    "    tick_marks = np.arange(len(classes))\n",
    "    plt.xticks(tick_marks, classes, rotation=45)\n",
    "    plt.yticks(tick_marks, classes)\n",
    "\n",
    "    fmt = '.2f' if normalize else 'd'\n",
    "    thresh = cm.max() / 2.\n",
    "    for i, j in itertools.product(range(cm.shape[0]), range(cm.shape[1])):\n",
    "        plt.text(j, i, format(cm[i, j], fmt),\n",
    "                 horizontalalignment=\"center\",\n",
    "                 color=\"white\" if cm[i, j] > thresh else \"black\")\n",
    "\n",
    "    plt.tight_layout()\n",
    "    plt.ylabel('True label')\n",
    "    plt.xlabel('Predicted label')\n"
   ]
  },
  {
   "cell_type": "code",
   "execution_count": 27,
   "metadata": {},
   "outputs": [
    {
     "name": "stdout",
     "output_type": "stream",
     "text": [
      "Confusion matrix, without normalization by Sean Jung\n",
      "[[1367 1827]\n",
      " [ 705 2470]]\n",
      "              precision    recall  f1-score   support\n",
      "\n",
      "           0       0.66      0.43      0.52      3194\n",
      "           1       0.57      0.78      0.66      3175\n",
      "\n",
      "    accuracy                           0.60      6369\n",
      "   macro avg       0.62      0.60      0.59      6369\n",
      "weighted avg       0.62      0.60      0.59      6369\n",
      "\n"
     ]
    },
    {
     "data": {
      "image/png": "[encoded data removed]",
      "text/plain": [
       "<Figure size 432x288 with 2 Axes>"
      ]
     },
     "metadata": {},
     "output_type": "display_data"
    }
   ],
   "source": [
    "# Compute confusion matrix to evaluate the accuracy of a classification\n",
    "cnf_matrix = confusion_matrix(y_test, y_pred)\n",
    "np.set_printoptions(precision=2)\n",
    "\n",
    "# Plot non-normalized confusion matrix\n",
    "# This is a non-normalized confusion matrix of the model\n",
    "plt.figure()\n",
    "plot_confusion_matrix(cnf_matrix, classes=('Not terminate', \"Terminate\"),\n",
    "                      title='Confusion matrix, without normalization by Sean Jung')\n",
    "\n",
    "# Classification report (Default)\n",
    "from sklearn.metrics import classification_report\n",
    "print(classification_report(y_test, y_pred))"
   ]
  },
  {
   "cell_type": "code",
   "execution_count": 28,
   "metadata": {},
   "outputs": [
    {
     "name": "stdout",
     "output_type": "stream",
     "text": [
      "Normalized confusion matrix by Sean Jung\n",
      "[[0.43 0.57]\n",
      " [0.22 0.78]]\n"
     ]
    },
    {
     "data": {
      "image/png": "[encoded data removed]",
      "text/plain": [
       "<Figure size 432x288 with 2 Axes>"
      ]
     },
     "metadata": {},
     "output_type": "display_data"
    }
   ],
   "source": [
    "# This is a normalized confusion matrix of the model (Default)\n",
    "plt.figure()\n",
    "plot_confusion_matrix(cnf_matrix, classes=('Not terminate', \"Terminate\"), normalize=True,\n",
    "                      title='Normalized confusion matrix by Sean Jung')\n",
    "\n",
    "plt.show()"
   ]
  },
  {
   "cell_type": "code",
   "execution_count": null,
   "metadata": {},
   "outputs": [],
   "source": [
    "# Compute confusion matrix to evaluate the accuracy of a classification (Modified 2)\n",
    "#cnf_matrix_2 = confusion_matrix(y_test, y_pred_2)\n",
    "#np.set_printoptions(precision=2)"
   ]
  },
  {
   "cell_type": "code",
   "execution_count": null,
   "metadata": {},
   "outputs": [],
   "source": [
    "# Classification report (Modified 1)\n",
    "# print(classification_report(y_test, y_pred_1))"
   ]
  }
 ],
 "metadata": {
  "kernelspec": {
   "display_name": "Python 3",
   "language": "python",
   "name": "python3"
  },
  "language_info": {
   "codemirror_mode": {
    "name": "ipython",
    "version": 3
   },
   "file_extension": ".py",
   "mimetype": "text/x-python",
   "name": "python",
   "nbconvert_exporter": "python",
   "pygments_lexer": "ipython3",
   "version": "3.7.6"
  }
 },
 "nbformat": 4,
 "nbformat_minor": 4
}
